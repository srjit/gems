{
 "cells": [
  {
   "cell_type": "code",
   "execution_count": 1,
   "metadata": {},
   "outputs": [],
   "source": [
    "#imports\n",
    "\n",
    "import pandas as pd\n",
    "import numpy as np"
   ]
  },
  {
   "cell_type": "code",
   "execution_count": 2,
   "metadata": {},
   "outputs": [],
   "source": [
    "data_loc = \"/media/sree/mars/data/bitcoin/bitstampUSD_1-min_data_2012-01-01_to_2018-01-08.csv\"\n",
    "data = pd.read_csv(data_loc)"
   ]
  },
  {
   "cell_type": "code",
   "execution_count": 3,
   "metadata": {},
   "outputs": [
    {
     "data": {
      "text/plain": [
       "Index(['Timestamp', 'Open', 'High', 'Low', 'Close', 'Volume_(BTC)',\n",
       "       'Volume_(Currency)', 'Weighted_Price'],\n",
       "      dtype='object')"
      ]
     },
     "execution_count": 3,
     "metadata": {},
     "output_type": "execute_result"
    }
   ],
   "source": [
    "data.columns"
   ]
  },
  {
   "cell_type": "code",
   "execution_count": 4,
   "metadata": {},
   "outputs": [
    {
     "data": {
      "text/html": [
       "<div>\n",
       "<style scoped>\n",
       "    .dataframe tbody tr th:only-of-type {\n",
       "        vertical-align: middle;\n",
       "    }\n",
       "\n",
       "    .dataframe tbody tr th {\n",
       "        vertical-align: top;\n",
       "    }\n",
       "\n",
       "    .dataframe thead th {\n",
       "        text-align: right;\n",
       "    }\n",
       "</style>\n",
       "<table border=\"1\" class=\"dataframe\">\n",
       "  <thead>\n",
       "    <tr style=\"text-align: right;\">\n",
       "      <th></th>\n",
       "      <th>Timestamp</th>\n",
       "      <th>Open</th>\n",
       "      <th>High</th>\n",
       "      <th>Low</th>\n",
       "      <th>Close</th>\n",
       "      <th>Volume_(BTC)</th>\n",
       "      <th>Volume_(Currency)</th>\n",
       "      <th>Weighted_Price</th>\n",
       "      <th>year_month</th>\n",
       "    </tr>\n",
       "  </thead>\n",
       "  <tbody>\n",
       "    <tr>\n",
       "      <th>0</th>\n",
       "      <td>1325317920</td>\n",
       "      <td>4.39</td>\n",
       "      <td>4.39</td>\n",
       "      <td>4.39</td>\n",
       "      <td>4.39</td>\n",
       "      <td>0.455581</td>\n",
       "      <td>2.0</td>\n",
       "      <td>4.39</td>\n",
       "      <td>2011-12-31 02:52:00</td>\n",
       "    </tr>\n",
       "    <tr>\n",
       "      <th>1</th>\n",
       "      <td>1325317980</td>\n",
       "      <td>4.39</td>\n",
       "      <td>4.39</td>\n",
       "      <td>4.39</td>\n",
       "      <td>4.39</td>\n",
       "      <td>0.455581</td>\n",
       "      <td>2.0</td>\n",
       "      <td>4.39</td>\n",
       "      <td>2011-12-31 02:53:00</td>\n",
       "    </tr>\n",
       "    <tr>\n",
       "      <th>2</th>\n",
       "      <td>1325318040</td>\n",
       "      <td>4.39</td>\n",
       "      <td>4.39</td>\n",
       "      <td>4.39</td>\n",
       "      <td>4.39</td>\n",
       "      <td>0.455581</td>\n",
       "      <td>2.0</td>\n",
       "      <td>4.39</td>\n",
       "      <td>2011-12-31 02:54:00</td>\n",
       "    </tr>\n",
       "    <tr>\n",
       "      <th>3</th>\n",
       "      <td>1325318100</td>\n",
       "      <td>4.39</td>\n",
       "      <td>4.39</td>\n",
       "      <td>4.39</td>\n",
       "      <td>4.39</td>\n",
       "      <td>0.455581</td>\n",
       "      <td>2.0</td>\n",
       "      <td>4.39</td>\n",
       "      <td>2011-12-31 02:55:00</td>\n",
       "    </tr>\n",
       "    <tr>\n",
       "      <th>4</th>\n",
       "      <td>1325318160</td>\n",
       "      <td>4.39</td>\n",
       "      <td>4.39</td>\n",
       "      <td>4.39</td>\n",
       "      <td>4.39</td>\n",
       "      <td>0.455581</td>\n",
       "      <td>2.0</td>\n",
       "      <td>4.39</td>\n",
       "      <td>2011-12-31 02:56:00</td>\n",
       "    </tr>\n",
       "  </tbody>\n",
       "</table>\n",
       "</div>"
      ],
      "text/plain": [
       "    Timestamp  Open  High   Low  Close  Volume_(BTC)  Volume_(Currency)  \\\n",
       "0  1325317920  4.39  4.39  4.39   4.39      0.455581                2.0   \n",
       "1  1325317980  4.39  4.39  4.39   4.39      0.455581                2.0   \n",
       "2  1325318040  4.39  4.39  4.39   4.39      0.455581                2.0   \n",
       "3  1325318100  4.39  4.39  4.39   4.39      0.455581                2.0   \n",
       "4  1325318160  4.39  4.39  4.39   4.39      0.455581                2.0   \n",
       "\n",
       "   Weighted_Price          year_month  \n",
       "0            4.39 2011-12-31 02:52:00  \n",
       "1            4.39 2011-12-31 02:53:00  \n",
       "2            4.39 2011-12-31 02:54:00  \n",
       "3            4.39 2011-12-31 02:55:00  \n",
       "4            4.39 2011-12-31 02:56:00  "
      ]
     },
     "execution_count": 4,
     "metadata": {},
     "output_type": "execute_result"
    }
   ],
   "source": [
    "## convert time stamp into yyyy-mm-dd format\n",
    "## https://stackoverflow.com/questions/3682748/converting-unix-timestamp-string-to-readable-date-in-python\n",
    "\n",
    "import datetime\n",
    "data[\"year_month\"] = data[\"Timestamp\"].apply(lambda x: datetime.datetime.fromtimestamp(x))\n",
    "\n",
    "\n",
    "data.head()"
   ]
  },
  {
   "cell_type": "code",
   "execution_count": 5,
   "metadata": {},
   "outputs": [
    {
     "data": {
      "text/plain": [
       "array([2011, 2012, 2013, 2014, 2015, 2016, 2017, 2018])"
      ]
     },
     "execution_count": 5,
     "metadata": {},
     "output_type": "execute_result"
    }
   ],
   "source": [
    "## how has the number of transactions increased over the years?\n",
    "\n",
    "data.groupby(['year_month']).size()\n",
    "\n",
    "years = np.unique(data['year_month'].dt.year)\n",
    "years"
   ]
  },
  {
   "cell_type": "code",
   "execution_count": 6,
   "metadata": {},
   "outputs": [],
   "source": [
    "## avg value of a coin over the years\n",
    "avg_open = []\n",
    "avg_volume = []\n",
    "avg_close = []\n",
    "avg_high = []\n",
    "avg_low = []\n",
    "avg_BTC = []\n",
    "avg_average = []\n",
    "\n",
    "for year in years:\n",
    "    avg_volume.append(data[data['year_month'].dt.year == year]['Volume_(Currency)'].mean())\n",
    "    avg_BTC.append(data[data['year_month'].dt.year == year]['Volume_(BTC)'].mean())\n",
    "    avg_open.append(data[data['year_month'].dt.year == year]['Open'].mean())\n",
    "    avg_close.append(data[data['year_month'].dt.year == year]['Close'].mean())\n",
    "    avg_high.append(data[data['year_month'].dt.year == year]['High'].mean())\n",
    "    avg_low.append(data[data['year_month'].dt.year == year]['Low'].mean())\n",
    "    avg_average.append(data[data['year_month'].dt.year == year]['Weighted_Price'].mean())"
   ]
  },
  {
   "cell_type": "code",
   "execution_count": 7,
   "metadata": {},
   "outputs": [
    {
     "data": {
      "image/png": "[encoded data removed]",
      "text/plain": [
       "<matplotlib.figure.Figure at 0x7f88742b1be0>"
      ]
     },
     "metadata": {},
     "output_type": "display_data"
    }
   ],
   "source": [
    "# mean variation of bitcoin value over the years\n",
    "import matplotlib.pyplot as plt\n",
    "\n",
    "x = years.tolist()\n",
    "y = avg_high\n",
    "\n",
    "plt.plot(x, y, '*-')\n",
    "plt.show()\n"
   ]
  },
  {
   "cell_type": "code",
   "execution_count": 8,
   "metadata": {},
   "outputs": [],
   "source": [
    "# monthly mean variation\n",
    "\n",
    "monthly_avg_open = []\n",
    "monthly_avg_volume = []\n",
    "monthly_avg_close = []\n",
    "monthly_avg_high = []\n",
    "monthly_avg_low = []\n",
    "monthly_avg_BTC = []\n",
    "monthly_avg_average = []\n",
    "\n",
    "months = list(range(1,13,1))\n",
    "\n",
    "for year in years:\n",
    "    for month in months:\n",
    "        monthly_avg_volume.append(data[(data['year_month'].dt.year == year) & (data['year_month'].dt.month == month)]['Volume_(Currency)'].mean())        \n",
    "        monthly_avg_BTC.append(data[(data['year_month'].dt.year == year) & (data['year_month'].dt.month == month)]['Volume_(BTC)'].mean())\n",
    "        monthly_avg_open.append(data[(data['year_month'].dt.year == year) & (data['year_month'].dt.month == month)]['Open'].mean())\n",
    "        monthly_avg_close.append(data[(data['year_month'].dt.year == year) & (data['year_month'].dt.month == month)]['Close'].mean())\n",
    "        monthly_avg_high.append(data[(data['year_month'].dt.year == year) & (data['year_month'].dt.month == month)]['High'].mean())\n",
    "        monthly_avg_low.append(data[(data['year_month'].dt.year == year) & (data['year_month'].dt.month == month)]['Low'].mean())\n",
    "        monthly_avg_average.append(data[(data['year_month'].dt.year == year) & (data['year_month'].dt.month == month)]['Weighted_Price'].mean())"
   ]
  },
  {
   "cell_type": "code",
   "execution_count": 9,
   "metadata": {},
   "outputs": [
    {
     "data": {
      "image/png": "[encoded data removed]",
      "text/plain": [
       "<matplotlib.figure.Figure at 0x7f88358df7f0>"
      ]
     },
     "metadata": {},
     "output_type": "display_data"
    }
   ],
   "source": [
    "x_ticks = []\n",
    "\n",
    "for year in years:\n",
    "    for month in months:\n",
    "        x_ticks.append(str(year) + \"_\" + str(month))\n",
    "\n",
    "        \n",
    "#x_ticks = np.array(x_ticks)        \n",
    "fig = plt.figure(figsize=(18, 18))\n",
    "y = monthly_avg_high\n",
    "x = list(range(len(x_ticks)))\n",
    "plt.xticks(x, x_ticks)\n",
    "\n",
    "locs, labels = plt.xticks()\n",
    "plt.setp(labels, rotation=90)\n",
    "\n",
    "plt.plot(x, y, '*-')\n",
    "plt.show()"
   ]
  },
  {
   "cell_type": "code",
   "execution_count": null,
   "metadata": {},
   "outputs": [],
   "source": []
  }
 ],
 "metadata": {
  "kernelspec": {
   "display_name": "Python 3",
   "language": "python",
   "name": "python3"
  },
  "language_info": {
   "codemirror_mode": {
    "name": "ipython",
    "version": 3
   },
   "file_extension": ".py",
   "mimetype": "text/x-python",
   "name": "python",
   "nbconvert_exporter": "python",
   "pygments_lexer": "ipython3",
   "version": "3.5.2"
  }
 },
 "nbformat": 4,
 "nbformat_minor": 2
}
